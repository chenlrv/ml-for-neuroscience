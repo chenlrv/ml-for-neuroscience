{
 "cells": [
  {
   "cell_type": "code",
   "execution_count": 1,
   "metadata": {},
   "outputs": [],
   "source": [
    "import pandas as pd"
   ]
  },
  {
   "cell_type": "code",
   "execution_count": 2,
   "metadata": {},
   "outputs": [
    {
     "data": {
      "text/html": [
       "<div>\n",
       "<style scoped>\n",
       "    .dataframe tbody tr th:only-of-type {\n",
       "        vertical-align: middle;\n",
       "    }\n",
       "\n",
       "    .dataframe tbody tr th {\n",
       "        vertical-align: top;\n",
       "    }\n",
       "\n",
       "    .dataframe thead th {\n",
       "        text-align: right;\n",
       "    }\n",
       "</style>\n",
       "<table border=\"1\" class=\"dataframe\">\n",
       "  <thead>\n",
       "    <tr style=\"text-align: right;\">\n",
       "      <th></th>\n",
       "      <th>id</th>\n",
       "      <th>doi</th>\n",
       "      <th>space</th>\n",
       "      <th>title</th>\n",
       "      <th>authors</th>\n",
       "      <th>year</th>\n",
       "      <th>journal</th>\n",
       "      <th>citation_count</th>\n",
       "    </tr>\n",
       "  </thead>\n",
       "  <tbody>\n",
       "    <tr>\n",
       "      <th>0</th>\n",
       "      <td>9065511</td>\n",
       "      <td>10.1523/jneurosci.17-07-02512.1997</td>\n",
       "      <td>MNI</td>\n",
       "      <td>Environmental knowledge is subserved by separa...</td>\n",
       "      <td>Aguirre GK, D'Esposito M</td>\n",
       "      <td>1997</td>\n",
       "      <td>The Journal of neuroscience : the official jou...</td>\n",
       "      <td>180.0</td>\n",
       "    </tr>\n",
       "    <tr>\n",
       "      <th>1</th>\n",
       "      <td>9084599</td>\n",
       "      <td>10.1152/jn.1997.77.3.1313</td>\n",
       "      <td>MNI</td>\n",
       "      <td>Anatomy of motor learning. I. Frontal cortex a...</td>\n",
       "      <td>Jueptner M, Stephan KM, Frith CD, Brooks DJ, F...</td>\n",
       "      <td>1997</td>\n",
       "      <td>Journal of neurophysiology</td>\n",
       "      <td>464.0</td>\n",
       "    </tr>\n",
       "    <tr>\n",
       "      <th>2</th>\n",
       "      <td>9114263</td>\n",
       "      <td>10.1152/jn.1997.77.4.2164</td>\n",
       "      <td>MNI</td>\n",
       "      <td>Multiple nonprimary motor areas in the human c...</td>\n",
       "      <td>Fink GR, Frackowiak RS, Pietrzyk U, Passingham RE</td>\n",
       "      <td>1997</td>\n",
       "      <td>Journal of neurophysiology</td>\n",
       "      <td>367.0</td>\n",
       "    </tr>\n",
       "    <tr>\n",
       "      <th>3</th>\n",
       "      <td>9185551</td>\n",
       "      <td>10.1523/jneurosci.17-13-05136.1997</td>\n",
       "      <td>TAL</td>\n",
       "      <td>A role for the right anterior temporal lobe in...</td>\n",
       "      <td>Small DM, Jones-Gotman M, Zatorre RJ, Petrides...</td>\n",
       "      <td>1997</td>\n",
       "      <td>The Journal of neuroscience : the official jou...</td>\n",
       "      <td>115.0</td>\n",
       "    </tr>\n",
       "    <tr>\n",
       "      <th>4</th>\n",
       "      <td>9256495</td>\n",
       "      <td>10.1073/pnas.94.17.9406</td>\n",
       "      <td>TAL</td>\n",
       "      <td>Pattern of neuronal activity associated with c...</td>\n",
       "      <td>Sahraie A, Weiskrantz L, Barbur JL, Simmons A,...</td>\n",
       "      <td>1997</td>\n",
       "      <td>Proceedings of the National Academy of Science...</td>\n",
       "      <td>197.0</td>\n",
       "    </tr>\n",
       "    <tr>\n",
       "      <th>5</th>\n",
       "      <td>9391021</td>\n",
       "      <td>10.1016/s0168-0102(97)82145-1</td>\n",
       "      <td>MNI</td>\n",
       "      <td>Role of the supplementary motor area and the r...</td>\n",
       "      <td>Sadato N, Yonekura Y, Waki A, Yamada H, Ishii Y</td>\n",
       "      <td>1997</td>\n",
       "      <td>The Journal of neuroscience : the official jou...</td>\n",
       "      <td>0.0</td>\n",
       "    </tr>\n",
       "    <tr>\n",
       "      <th>6</th>\n",
       "      <td>9405692</td>\n",
       "      <td>10.1073/pnas.94.26.14792</td>\n",
       "      <td>UNKNOWN</td>\n",
       "      <td>Role of left inferior prefrontal cortex in ret...</td>\n",
       "      <td>Thompson-Schill SL, D'Esposito M, Aguirre GK, ...</td>\n",
       "      <td>1997</td>\n",
       "      <td>Proceedings of the National Academy of Science...</td>\n",
       "      <td>1508.0</td>\n",
       "    </tr>\n",
       "    <tr>\n",
       "      <th>7</th>\n",
       "      <td>9412517</td>\n",
       "      <td>10.1523/jneurosci.18-01-00411.1998</td>\n",
       "      <td>TAL</td>\n",
       "      <td>Masked presentations of emotional facial expre...</td>\n",
       "      <td>Whalen PJ, Rauch SL, Etcoff NL, McInerney SC, ...</td>\n",
       "      <td>1998</td>\n",
       "      <td>The Journal of neuroscience : the official jou...</td>\n",
       "      <td>1551.0</td>\n",
       "    </tr>\n",
       "    <tr>\n",
       "      <th>8</th>\n",
       "      <td>9465007</td>\n",
       "      <td>10.1523/jneurosci.18-05-01827.1998</td>\n",
       "      <td>UNKNOWN</td>\n",
       "      <td>Transition of brain activation from frontal to...</td>\n",
       "      <td>Sakai K, Hikosaka O, Miyauchi S, Takino R, Sas...</td>\n",
       "      <td>1998</td>\n",
       "      <td>The Journal of neuroscience : the official jou...</td>\n",
       "      <td>360.0</td>\n",
       "    </tr>\n",
       "    <tr>\n",
       "      <th>9</th>\n",
       "      <td>9491989</td>\n",
       "      <td>10.1016/S0896-6273(00)80456-0</td>\n",
       "      <td>TAL</td>\n",
       "      <td>Functional-anatomic correlates of object primi...</td>\n",
       "      <td>Buckner RL, Goodman J, Burock M, Rotte M, Kout...</td>\n",
       "      <td>1998</td>\n",
       "      <td>Neuron</td>\n",
       "      <td>443.0</td>\n",
       "    </tr>\n",
       "  </tbody>\n",
       "</table>\n",
       "</div>"
      ],
      "text/plain": [
       "        id                                 doi    space  \\\n",
       "0  9065511  10.1523/jneurosci.17-07-02512.1997      MNI   \n",
       "1  9084599           10.1152/jn.1997.77.3.1313      MNI   \n",
       "2  9114263           10.1152/jn.1997.77.4.2164      MNI   \n",
       "3  9185551  10.1523/jneurosci.17-13-05136.1997      TAL   \n",
       "4  9256495             10.1073/pnas.94.17.9406      TAL   \n",
       "5  9391021       10.1016/s0168-0102(97)82145-1      MNI   \n",
       "6  9405692            10.1073/pnas.94.26.14792  UNKNOWN   \n",
       "7  9412517  10.1523/jneurosci.18-01-00411.1998      TAL   \n",
       "8  9465007  10.1523/jneurosci.18-05-01827.1998  UNKNOWN   \n",
       "9  9491989       10.1016/S0896-6273(00)80456-0      TAL   \n",
       "\n",
       "                                               title  \\\n",
       "0  Environmental knowledge is subserved by separa...   \n",
       "1  Anatomy of motor learning. I. Frontal cortex a...   \n",
       "2  Multiple nonprimary motor areas in the human c...   \n",
       "3  A role for the right anterior temporal lobe in...   \n",
       "4  Pattern of neuronal activity associated with c...   \n",
       "5  Role of the supplementary motor area and the r...   \n",
       "6  Role of left inferior prefrontal cortex in ret...   \n",
       "7  Masked presentations of emotional facial expre...   \n",
       "8  Transition of brain activation from frontal to...   \n",
       "9  Functional-anatomic correlates of object primi...   \n",
       "\n",
       "                                             authors  year  \\\n",
       "0                           Aguirre GK, D'Esposito M  1997   \n",
       "1  Jueptner M, Stephan KM, Frith CD, Brooks DJ, F...  1997   \n",
       "2  Fink GR, Frackowiak RS, Pietrzyk U, Passingham RE  1997   \n",
       "3  Small DM, Jones-Gotman M, Zatorre RJ, Petrides...  1997   \n",
       "4  Sahraie A, Weiskrantz L, Barbur JL, Simmons A,...  1997   \n",
       "5    Sadato N, Yonekura Y, Waki A, Yamada H, Ishii Y  1997   \n",
       "6  Thompson-Schill SL, D'Esposito M, Aguirre GK, ...  1997   \n",
       "7  Whalen PJ, Rauch SL, Etcoff NL, McInerney SC, ...  1998   \n",
       "8  Sakai K, Hikosaka O, Miyauchi S, Takino R, Sas...  1998   \n",
       "9  Buckner RL, Goodman J, Burock M, Rotte M, Kout...  1998   \n",
       "\n",
       "                                             journal  citation_count  \n",
       "0  The Journal of neuroscience : the official jou...           180.0  \n",
       "1                         Journal of neurophysiology           464.0  \n",
       "2                         Journal of neurophysiology           367.0  \n",
       "3  The Journal of neuroscience : the official jou...           115.0  \n",
       "4  Proceedings of the National Academy of Science...           197.0  \n",
       "5  The Journal of neuroscience : the official jou...             0.0  \n",
       "6  Proceedings of the National Academy of Science...          1508.0  \n",
       "7  The Journal of neuroscience : the official jou...          1551.0  \n",
       "8  The Journal of neuroscience : the official jou...           360.0  \n",
       "9                                             Neuron           443.0  "
      ]
     },
     "execution_count": 2,
     "metadata": {},
     "output_type": "execute_result"
    }
   ],
   "source": [
    "metadata_df = pd.read_csv('metadata.tsv', delimiter='\\t')\n",
    "metadata_df.head(10)"
   ]
  },
  {
   "cell_type": "code",
   "execution_count": 3,
   "metadata": {},
   "outputs": [
    {
     "name": "stdout",
     "output_type": "stream",
     "text": [
      "<class 'pandas.core.frame.DataFrame'>\n",
      "RangeIndex: 14371 entries, 0 to 14370\n",
      "Data columns (total 8 columns):\n",
      " #   Column          Non-Null Count  Dtype  \n",
      "---  ------          --------------  -----  \n",
      " 0   id              14371 non-null  int64  \n",
      " 1   doi             14371 non-null  object \n",
      " 2   space           14371 non-null  object \n",
      " 3   title           14371 non-null  object \n",
      " 4   authors         14371 non-null  object \n",
      " 5   year            14371 non-null  int64  \n",
      " 6   journal         14371 non-null  object \n",
      " 7   citation_count  14366 non-null  float64\n",
      "dtypes: float64(1), int64(2), object(5)\n",
      "memory usage: 898.3+ KB\n"
     ]
    }
   ],
   "source": [
    "metadata_df.info()"
   ]
  },
  {
   "cell_type": "code",
   "execution_count": 4,
   "metadata": {},
   "outputs": [
    {
     "data": {
      "text/plain": [
       "citation_count    5\n",
       "dtype: int64"
      ]
     },
     "execution_count": 4,
     "metadata": {},
     "output_type": "execute_result"
    }
   ],
   "source": [
    "na_counts = metadata_df.isna().sum()\n",
    "na_counts = na_counts[na_counts > 0]\n",
    "\n",
    "na_counts"
   ]
  },
  {
   "cell_type": "code",
   "execution_count": 5,
   "metadata": {},
   "outputs": [],
   "source": [
    "metadata_df = metadata_df.dropna(subset=['citation_count'])"
   ]
  },
  {
   "cell_type": "code",
   "execution_count": 6,
   "metadata": {},
   "outputs": [
    {
     "data": {
      "text/plain": [
       "array(['MNI', 'TAL', 'UNKNOWN'], dtype=object)"
      ]
     },
     "execution_count": 6,
     "metadata": {},
     "output_type": "execute_result"
    }
   ],
   "source": [
    "metadata_df['space'].unique()"
   ]
  },
  {
   "cell_type": "code",
   "execution_count": 7,
   "metadata": {},
   "outputs": [
    {
     "name": "stdout",
     "output_type": "stream",
     "text": [
      "MNI Percentage: 70.99401364332452\n",
      "TAL Percentage: 16.253654461923986\n",
      "UNKNOWN Percentage: 12.752331894751498\n"
     ]
    }
   ],
   "source": [
    "mni = (len(metadata_df[metadata_df['space'] == 'MNI']) / len(metadata_df)) * 100\n",
    "print(f'MNI Percentage: {mni}')\n",
    "\n",
    "mni = (len(metadata_df[metadata_df['space'] == 'TAL']) / len(metadata_df)) * 100\n",
    "print(f'TAL Percentage: {mni}')\n",
    "\n",
    "mni = (len(metadata_df[metadata_df['space'] == 'UNKNOWN']) / len(metadata_df)) * 100\n",
    "print(f'UNKNOWN Percentage: {mni}')"
   ]
  },
  {
   "cell_type": "markdown",
   "metadata": {},
   "source": [
    "We consider UNKNOWN as NA - becuase it is not specific and indicates a missing information.  \n",
    "We may fill UNKNOWNs with MNI / TAL, remove samples with UNKNOWN space or remove the feature.  \n",
    "We decided that, due to the big portion (12%) of the data with UNKNOWN space, we should not remove the samples, however, we didn't want to modify the data as well.  \n",
    "Therefore we decided to remove Space feature."
   ]
  },
  {
   "cell_type": "markdown",
   "metadata": {},
   "source": [
    "Observing the metadata, we decide of a few modifications to to be applied on the dataset:\n",
    "1.  Drop doi column: doi is a standardized unique number given to articles, papers, and books. \n",
    "It is required for identification purposes, but irrelevant to our prediction model.  \n",
    "2.  Drop space column\n",
    "3.  Drop citation_count and journal columns: they already exist in abtracts_df which will be joined to metadata_df.  "
   ]
  },
  {
   "cell_type": "code",
   "execution_count": 8,
   "metadata": {},
   "outputs": [
    {
     "data": {
      "text/html": [
       "<div>\n",
       "<style scoped>\n",
       "    .dataframe tbody tr th:only-of-type {\n",
       "        vertical-align: middle;\n",
       "    }\n",
       "\n",
       "    .dataframe tbody tr th {\n",
       "        vertical-align: top;\n",
       "    }\n",
       "\n",
       "    .dataframe thead th {\n",
       "        text-align: right;\n",
       "    }\n",
       "</style>\n",
       "<table border=\"1\" class=\"dataframe\">\n",
       "  <thead>\n",
       "    <tr style=\"text-align: right;\">\n",
       "      <th></th>\n",
       "      <th>id</th>\n",
       "      <th>title</th>\n",
       "      <th>authors</th>\n",
       "      <th>year_published</th>\n",
       "    </tr>\n",
       "  </thead>\n",
       "  <tbody>\n",
       "    <tr>\n",
       "      <th>0</th>\n",
       "      <td>9065511</td>\n",
       "      <td>Environmental knowledge is subserved by separa...</td>\n",
       "      <td>Aguirre GK, D'Esposito M</td>\n",
       "      <td>1997</td>\n",
       "    </tr>\n",
       "    <tr>\n",
       "      <th>1</th>\n",
       "      <td>9084599</td>\n",
       "      <td>Anatomy of motor learning. I. Frontal cortex a...</td>\n",
       "      <td>Jueptner M, Stephan KM, Frith CD, Brooks DJ, F...</td>\n",
       "      <td>1997</td>\n",
       "    </tr>\n",
       "    <tr>\n",
       "      <th>2</th>\n",
       "      <td>9114263</td>\n",
       "      <td>Multiple nonprimary motor areas in the human c...</td>\n",
       "      <td>Fink GR, Frackowiak RS, Pietrzyk U, Passingham RE</td>\n",
       "      <td>1997</td>\n",
       "    </tr>\n",
       "  </tbody>\n",
       "</table>\n",
       "</div>"
      ],
      "text/plain": [
       "        id                                              title  \\\n",
       "0  9065511  Environmental knowledge is subserved by separa...   \n",
       "1  9084599  Anatomy of motor learning. I. Frontal cortex a...   \n",
       "2  9114263  Multiple nonprimary motor areas in the human c...   \n",
       "\n",
       "                                             authors  year_published  \n",
       "0                           Aguirre GK, D'Esposito M            1997  \n",
       "1  Jueptner M, Stephan KM, Frith CD, Brooks DJ, F...            1997  \n",
       "2  Fink GR, Frackowiak RS, Pietrzyk U, Passingham RE            1997  "
      ]
     },
     "execution_count": 8,
     "metadata": {},
     "output_type": "execute_result"
    }
   ],
   "source": [
    "metadata_df = metadata_df.drop(['doi', 'space', 'journal', 'citation_count'], axis=1)\n",
    "metadata_df = metadata_df.rename(columns={'year': 'year_published'})\n",
    "\n",
    "metadata_df.head(3)"
   ]
  },
  {
   "cell_type": "code",
   "execution_count": 9,
   "metadata": {},
   "outputs": [],
   "source": [
    "metadata_df.to_csv('metadata_df_eda.csv')"
   ]
  }
 ],
 "metadata": {
  "kernelspec": {
   "display_name": "base",
   "language": "python",
   "name": "python3"
  },
  "language_info": {
   "codemirror_mode": {
    "name": "ipython",
    "version": 3
   },
   "file_extension": ".py",
   "mimetype": "text/x-python",
   "name": "python",
   "nbconvert_exporter": "python",
   "pygments_lexer": "ipython3",
   "version": "3.11.5"
  }
 },
 "nbformat": 4,
 "nbformat_minor": 2
}
